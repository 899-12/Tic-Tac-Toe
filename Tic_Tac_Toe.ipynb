{
  "cells": [
    {
      "cell_type": "code",
      "execution_count": 66,
      "metadata": {
        "id": "gyVc_aMwqANx"
      },
      "outputs": [],
      "source": [
        "from IPython.display import clear_output\n",
        "\n",
        "\n",
        "def display(test_board):\n",
        "     clear_output()\n",
        "    \n",
        "     print(test_board[7]+\"|\"+test_board[8]+\"|\"+test_board[9])\n",
        "     print(test_board[4]+\"|\"+test_board[5]+\"|\"+test_board[6])\n",
        "     print(test_board[1]+\"|\"+test_board[2]+\"|\"+test_board[3])\n"
      ]
    },
    {
      "cell_type": "code",
      "execution_count": 67,
      "metadata": {
        "colab": {
          "base_uri": "https://localhost:8080/"
        },
        "id": "kkXFzMgTqC9b",
        "outputId": "3bbb84c2-7131-43d3-d687-f3f9ab5c5eba"
      },
      "outputs": [
        {
          "name": "stdout",
          "output_type": "stream",
          "text": [
            "G|H|I\n",
            "P|E|F\n",
            "A|B|C\n"
          ]
        }
      ],
      "source": [
        "display(test_board)\n",
        "display(test_board)\n",
        "display(test_board)\n",
        "display(test_board)"
      ]
    },
    {
      "cell_type": "code",
      "execution_count": 68,
      "metadata": {
        "colab": {
          "base_uri": "https://localhost:8080/"
        },
        "id": "5GGxtdE8qFLz",
        "outputId": "87d54a6f-2aea-404e-af0e-3b40a75fb383"
      },
      "outputs": [
        {
          "name": "stdout",
          "output_type": "stream",
          "text": [
            "5\n",
            "7\n"
          ]
        }
      ],
      "source": [
        "def demo():\n",
        "  a=5\n",
        "  b=7\n",
        "  return(a,b)\n",
        "\n",
        "x,y=demo()\n",
        "print(x)\n",
        "print(y)"
      ]
    },
    {
      "cell_type": "code",
      "execution_count": 69,
      "metadata": {
        "colab": {
          "base_uri": "https://localhost:8080/"
        },
        "id": "X4ZHbPAhqIuC",
        "outputId": "a0861a85-e747-4531-90da-07e808f4dbad"
      },
      "outputs": [
        {
          "name": "stdout",
          "output_type": "stream",
          "text": [
            "Enter your choice(X or O)X\n"
          ]
        }
      ],
      "source": [
        "marker=\"\"\n",
        "while marker!=\"X\":\n",
        " marker=input(\"Enter your choice(X or O)\")"
      ]
    },
    {
      "cell_type": "code",
      "execution_count": 70,
      "metadata": {
        "colab": {
          "base_uri": "https://localhost:8080/"
        },
        "id": "9QbUj2WIqOlj",
        "outputId": "e6b7e45e-f05e-482f-de55-0923e81d65c7"
      },
      "outputs": [
        {
          "name": "stdout",
          "output_type": "stream",
          "text": [
            "1\n"
          ]
        }
      ],
      "source": [
        "import random\n",
        "print(random.randint(0,1))\n"
      ]
    },
    {
      "cell_type": "code",
      "execution_count": 71,
      "metadata": {
        "id": "v69OozS9qRBa"
      },
      "outputs": [],
      "source": [
        "def demo(a):\n",
        "  if a==5:\n",
        "   return True\n",
        "  else:\n",
        "   return False"
      ]
    },
    {
      "cell_type": "code",
      "execution_count": 72,
      "metadata": {
        "colab": {
          "base_uri": "https://localhost:8080/"
        },
        "id": "P7_C867tqTqS",
        "outputId": "7bfb6935-fb99-4566-de2a-9d00f4b7e4e3"
      },
      "outputs": [
        {
          "data": {
            "text/plain": [
              "False"
            ]
          },
          "execution_count": 72,
          "metadata": {},
          "output_type": "execute_result"
        }
      ],
      "source": [
        "demo(9)"
      ]
    },
    {
      "cell_type": "code",
      "execution_count": 73,
      "metadata": {
        "id": "tidk8XLjqWp_"
      },
      "outputs": [],
      "source": [
        "def demo1():\n",
        " print(\"Inside demo1\") \n",
        "def demo2():\n",
        "    print(\"First line of demo2\")\n",
        "    demo1()\n",
        "    print(\"Second line of demo2\")"
      ]
    },
    {
      "cell_type": "code",
      "execution_count": 74,
      "metadata": {
        "colab": {
          "base_uri": "https://localhost:8080/"
        },
        "id": "p2r5JXdRqaXk",
        "outputId": "66885ad4-0f15-4dd0-c652-4bfd30dde8e8"
      },
      "outputs": [
        {
          "name": "stdout",
          "output_type": "stream",
          "text": [
            "First line of demo2\n",
            "Inside demo1\n",
            "Second line of demo2\n"
          ]
        }
      ],
      "source": [
        "demo2()"
      ]
    },
    {
      "cell_type": "code",
      "execution_count": 75,
      "metadata": {
        "id": "BZIVTqDoqcjX"
      },
      "outputs": [],
      "source": [
        "#create display board\n",
        "from IPython.display import clear_output\n",
        "\n",
        "\n",
        "def display(test_board):\n",
        "     clear_output()\n",
        "    \n",
        "     print(test_board[7]+\"|\"+test_board[8]+\"|\"+test_board[9])\n",
        "     print(test_board[4]+\"|\"+test_board[5]+\"|\"+test_board[6])\n",
        "     print(test_board[1]+\"|\"+test_board[2]+\"|\"+test_board[3])"
      ]
    },
    {
      "cell_type": "code",
      "execution_count": 76,
      "metadata": {
        "id": "P11BFvLqqfPx"
      },
      "outputs": [],
      "source": [
        "def player_input():\n",
        "    marker=\" \"\n",
        "    while not(marker=='X'or marker=='O'):\n",
        "     marker=input(\"Player1:Do you want to be X or O\").upper()\n",
        "     if marker=='X':\n",
        "         return('X','O')\n",
        "     else:\n",
        "        return('O','X')  "
      ]
    },
    {
      "cell_type": "code",
      "execution_count": 77,
      "metadata": {
        "colab": {
          "base_uri": "https://localhost:8080/"
        },
        "id": "JvC7_s3Yqh3f",
        "outputId": "99d8d855-9447-4bdb-e2bb-633c5bbe9d4d"
      },
      "outputs": [
        {
          "name": "stdout",
          "output_type": "stream",
          "text": [
            "Player1:Do you want to be X or OX\n",
            "X\n",
            "O\n"
          ]
        }
      ],
      "source": [
        "player1_marker,player2_marker=player_input()\n",
        "print(player1_marker)\n",
        "print(player2_marker)"
      ]
    },
    {
      "cell_type": "code",
      "execution_count": 78,
      "metadata": {
        "id": "1qthrBpQqkZh"
      },
      "outputs": [],
      "source": [
        "def place_marker(board,marker,position):\n",
        "    board[position]=marker"
      ]
    },
    {
      "cell_type": "code",
      "execution_count": 79,
      "metadata": {
        "colab": {
          "base_uri": "https://localhost:8080/"
        },
        "id": "BEEP7ifsqm8w",
        "outputId": "3378913f-937a-48a1-86c4-b07d7131f387"
      },
      "outputs": [
        {
          "name": "stdout",
          "output_type": "stream",
          "text": [
            "G|H|I\n",
            "P|E|F\n",
            "A|B|C\n"
          ]
        }
      ],
      "source": [
        "test_board=[\"Z\",\"A\",\"B\",\"C\",\"D\",\"E\",\"F\",\"G\",\"H\",\"I\"]\n",
        "display(test_board)\n",
        "place_marker(test_board,\"P\",4)\n",
        "display(test_board)"
      ]
    },
    {
      "cell_type": "code",
      "execution_count": 80,
      "metadata": {
        "id": "OuH4Z8R1qo9K"
      },
      "outputs": [],
      "source": [
        "def win_check(board,mark):\n",
        "    \n",
        "    return ((board[7] == mark and board[8] == mark and board[9] == mark) or # across the top\n",
        "    (board[4] == mark and board[5] == mark and board[6] == mark) or # across the middle\n",
        "    (board[1] == mark and board[2] == mark and board[3] == mark) or # across the bottom\n",
        "    (board[7] == mark and board[4] == mark and board[1] == mark) or # down the middle\n",
        "    (board[8] == mark and board[5] == mark and board[2] == mark) or \n",
        "    (board[9] == mark and board[6] == mark and board[3] == mark) or \n",
        "    (board[7] == mark and board[5] == mark and board[3] == mark) or \n",
        "    (board[9] == mark and board[5] == mark and board[1] == mark)) "
      ]
    },
    {
      "cell_type": "code",
      "execution_count": 81,
      "metadata": {
        "colab": {
          "base_uri": "https://localhost:8080/"
        },
        "id": "IU4IWpZq7wSZ",
        "outputId": "107a0467-722f-44d4-ebad-3c768d712b29"
      },
      "outputs": [
        {
          "data": {
            "text/plain": [
              "False"
            ]
          },
          "execution_count": 81,
          "metadata": {},
          "output_type": "execute_result"
        }
      ],
      "source": [
        "win_check(test_board,'X')"
      ]
    },
    {
      "cell_type": "code",
      "execution_count": 82,
      "metadata": {
        "id": "bm-BaSDKqvfO"
      },
      "outputs": [],
      "source": [
        "import random\n",
        "def choose_first():\n",
        "  if random.randint(0,1)==0:\n",
        "        return 'player 2'\n",
        "  else:\n",
        "        return 'player 1'"
      ]
    },
    {
      "cell_type": "code",
      "execution_count": 83,
      "metadata": {
        "id": "ubSnyH9Tqs_o"
      },
      "outputs": [],
      "source": [
        "def space_check(board,position):\n",
        "    return board[position]==' '"
      ]
    },
    {
      "cell_type": "code",
      "execution_count": 84,
      "metadata": {
        "id": "B7iAMACu2dN8"
      },
      "outputs": [],
      "source": [
        "def full_board_check(board):\n",
        "  for i in range(1,10):\n",
        "    if space_check(board,i):\n",
        "     return False\n",
        "  return True"
      ]
    },
    {
      "cell_type": "code",
      "execution_count": 85,
      "metadata": {
        "id": "jznc9EBPqyM_"
      },
      "outputs": [],
      "source": [
        "def player_choice(board):\n",
        "    positon=0\n",
        "    while position not in [1,2,3,4,5,6,7,8,9]  or not space_check[board,position]:\n",
        "     position=int(input(\"Enter your position(1-9)\") )\n",
        "     return position"
      ]
    },
    {
      "cell_type": "code",
      "execution_count": 86,
      "metadata": {
        "id": "_boSPcpNq0km"
      },
      "outputs": [],
      "source": [
        "def replay():\n",
        "    return input(\"You want to play again(yes,no)\").lower().startswith('y')"
      ]
    },
    {
      "cell_type": "code",
      "execution_count": 90,
      "metadata": {
        "colab": {
          "base_uri": "https://localhost:8080/"
        },
        "id": "gm2eYEo--ZZv",
        "outputId": "5e2057c9-14c3-4f2a-af8f-048377121d43"
      },
      "outputs": [
        {
          "name": "stdout",
          "output_type": "stream",
          "text": [
            "Welcome to Tic Tac Toe!\n",
            "Player1:Do you want to be X or OX\n",
            "player 2 will go first.\n",
            "Are you ready to play? Enter Yes or No.no\n",
            "You want to pplay again(yes,no)no\n"
          ]
        }
      ],
      "source": [
        "print('Welcome to Tic Tac Toe!')\n",
        "\n",
        "while True:\n",
        "    # Reset the board\n",
        "    theBoard = [' '] * 10\n",
        "    player1_marker, player2_marker = player_input()\n",
        "    turn = choose_first()\n",
        "    print(turn + ' will go first.')\n",
        "    \n",
        "    play_game = input('Are you ready to play? Enter Yes or No.')\n",
        "    \n",
        "    if play_game.lower()[0] == 'y':\n",
        "        game_on = True\n",
        "    else:\n",
        "        game_on = False\n",
        "\n",
        "    while game_on:\n",
        "        if turn == 'Player 1':\n",
        "            # Player1's turn.\n",
        "            \n",
        "            display_board(theBoard)\n",
        "            position = player_choice(theBoard)\n",
        "            place_marker(theBoard, player1_marker, position)\n",
        "\n",
        "            if win_check(theBoard, player1_marker):\n",
        "                display_board(theBoard)\n",
        "                print('Congratulations! You have won the game!')\n",
        "                game_on = False\n",
        "            else:\n",
        "                if full_board_check(theBoard):\n",
        "                    display_board(theBoard)\n",
        "                    print('The game is a draw!')\n",
        "                    break\n",
        "                else:\n",
        "                    turn = 'Player 2'\n",
        "\n",
        "        else:\n",
        "            # Player2's turn.\n",
        "            display_board(theBoard)\n",
        "            position = player_choice(theBoard)\n",
        "            place_marker(theBoard, player2_marker, position)\n",
        "\n",
        "            if win_check(theBoard, player2_marker):\n",
        "                display_board(theBoard)\n",
        "                print('Player 2 has won!')\n",
        "                game_on = False\n",
        "            else:\n",
        "                if full_board_check(theBoard):\n",
        "                    display_board(theBoard)\n",
        "                    print('The game is a draw!')\n",
        "                    break\n",
        "                else:\n",
        "                    turn = 'Player 1'\n",
        "\n",
        "    if not replay():\n",
        "        break"
      ]
    }
  ],
  "metadata": {
    "colab": {
      "name": "Tic Tac Toe.ipynb",
      "provenance": []
    },
    "kernelspec": {
      "display_name": "Python 3",
      "name": "python3"
    },
    "language_info": {
      "name": "python"
    }
  },
  "nbformat": 4,
  "nbformat_minor": 0
}
